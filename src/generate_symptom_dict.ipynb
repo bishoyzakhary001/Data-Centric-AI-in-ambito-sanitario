{
 "cells": [
  {
   "cell_type": "code",
   "execution_count": null,
   "metadata": {},
   "outputs": [],
   "source": [
    "# Estrazione automatica dizionario sintomi dal dataset\n",
    "\n",
    "import pandas as pd\n",
    "import json\n",
    "\n",
    "# Carica dataset (aggiorna path se necessario)\n",
    "df = pd.read_csv(\"dataset_weighted.csv\")\n",
    "\n",
    "# Identifica colonne sintomi\n",
    "symptom_cols = [col for col in df.columns if col.startswith(\"Symptom_\")]\n",
    "\n",
    "# Estrai tutti i valori distinti\n",
    "unique_symptom_ids = set()\n",
    "for col in symptom_cols:\n",
    "    unique_symptom_ids.update(df[col].dropna().unique())\n",
    "\n",
    "# Rimuove 0.0 (assente)\n",
    "unique_symptom_ids.discard(0.0)\n",
    "\n",
    "# Carica file dei sintomi veri associati ai codici\n",
    "df_desc = pd.read_csv(\"symptom_Description.csv\")  # Associa codice -> descrizione\n",
    "id_to_symptom = {i + 1: desc.strip().lower() for i, desc in enumerate(df_desc[\"Description\"])}\n",
    "# Nota: i +1 perché nel dataset i sintomi partono da 1\n",
    "\n",
    "# Costruisci dizionario completo\n",
    "symptom_keywords = {}\n",
    "for code in unique_symptom_ids:\n",
    "    desc = id_to_symptom.get(int(code), None)\n",
    "    if desc:\n",
    "        desc_clean = desc.replace(\"-\", \" \").replace(\"_\", \" \").strip()\n",
    "        symptom_keywords[desc_clean] = desc_clean\n",
    "        for part in desc_clean.split():\n",
    "            if len(part) > 3:\n",
    "                symptom_keywords[part] = desc_clean\n",
    "\n",
    "# Salva in JSON\n",
    "with open(\"symptom_keywords.json\", \"w\") as f:\n",
    "    json.dump(symptom_keywords, f, indent=2)\n",
    "\n",
    "print(\"Dizionario sintomi salvato in symptom_keywords.json con\", len(symptom_keywords), \"voci.\")\n"
   ]
  }
 ],
 "metadata": {
  "language_info": {
   "name": "python"
  }
 },
 "nbformat": 4,
 "nbformat_minor": 2
}
