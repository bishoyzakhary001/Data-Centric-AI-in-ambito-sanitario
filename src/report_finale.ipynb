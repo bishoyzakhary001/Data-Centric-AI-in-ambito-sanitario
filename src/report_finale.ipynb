{
 "cells": [
  {
   "cell_type": "markdown",
   "id": "f1516d47",
   "metadata": {},
   "source": [
    "# Progetto Big Data: Data-Centric AI in ambito sanitario"
   ]
  },
  {
   "cell_type": "markdown",
   "id": "17804960",
   "metadata": {},
   "source": [
    "## 1. Introduzione\n",
    "In questo progetto abbiamo sviluppato un sistema di classificazione automatica delle malattie a partire dai sintomi riportati dai pazienti.\n",
    "L'approccio seguito è stato fortemente orientato alla filosofia **Data-Centric AI**, ponendo l'accento sulla qualità, coerenza e rilevanza dei dati più che sulla complessità del modello.\n",
    "\n",
    "Il dataset utilizzato è una versione rielaborata del `Disease Symptom Description Dataset` reperito da Kaggle.\n"
   ]
  },
  {
   "cell_type": "markdown",
   "id": "5884b388",
   "metadata": {},
   "source": [
    "## 2. Dataset e contesto\n",
    "Il dataset contiene oltre 4000 osservazioni, ciascuna caratterizzata da 17 sintomi associati a una malattia (`Disease`). Ogni sintomo è stato trasformato in feature numerica attraverso un sistema di pesatura basato sulla sua **gravità clinica**.\n",
    "\n",
    "Abbiamo inoltre introdotto una feature aggiuntiva: `symptom_count`, rappresentante il numero di sintomi attivi per ogni paziente.\n"
   ]
  },
  {
   "cell_type": "markdown",
   "id": "02b70e3d",
   "metadata": {},
   "source": [
    "## 3. Ciclo Data-Centric AI\n",
    "\n",
    "Il ciclo è stato suddiviso in 7 moduli principali, implementati tramite notebook e orchestrati in un DAG Airflow.\n",
    "\n",
    "| Fase                   | Descrizione sintetica                                         |\n",
    "|------------------------|---------------------------------------------------------------|\n",
    "| Profiling              | Statistiche descrittive, NaN, distribuzione malattie          |\n",
    "| Pulizia                | Uniformazione sintomi, rimozione entry inconsistenti          |\n",
    "| Augmentation           | Generazione esempi sintetici per classi sbilanciate           |\n",
    "| Feature Engineering    | Sintomi pesati con severità clinica                           |\n",
    "| Modellazione           | Random Forest / GBT con PySpark                               |\n",
    "| Valutazione            | Accuracy, F1-score, Confusion Matrix                          |\n",
    "| Tracking & Explainability | MLflow, SHAP e Cleanlab                                     |\n"
   ]
  },
  {
   "cell_type": "markdown",
   "id": "eff55f8d",
   "metadata": {},
   "source": [
    "## 4. Interpretabilità e Qualità\n",
    "\n",
    "### SHAP\n",
    "Abbiamo utilizzato SHAP per comprendere l'importanza dei singoli sintomi nelle predizioni. I sintomi `Symptom_1`, `Symptom_5` e `Symptom_2` risultano essere i più determinanti nel processo decisionale del modello.\n",
    "\n",
    "### Cleanlab\n",
    "Abbiamo testato Cleanlab introducendo manualmente 10 errori nel target. Lo strumento non ha rilevato anomalie, a testimonianza della forte separabilità tra classi nel dataset e dell’elevata sicurezza del modello.\n"
   ]
  },
  {
   "cell_type": "markdown",
   "id": "412d4833",
   "metadata": {},
   "source": [
    "## 5. Pipeline automatica (Airflow)\n",
    "\n",
    "Per simulare l'integrazione in un ambiente real-world, abbiamo definito un **DAG Airflow** con i seguenti task:\n",
    "- Profiling\n",
    "- Cleaning\n",
    "- Augmentation\n",
    "- Feature Engineering\n",
    "- Training\n",
    "- Evaluation\n",
    "\n",
    "Tutti implementati come `PythonOperator` in un unico script: `airflow_pipeline.py`.\n"
   ]
  },
  {
   "cell_type": "markdown",
   "id": "cd066260",
   "metadata": {},
   "source": [
    "## 6. Conclusioni\n",
    "\n",
    "Il progetto dimostra come un approccio Data-Centric possa portare a **risultati affidabili e interpretabili** anche con modelli relativamente semplici. L’integrazione di strumenti di tracking (MLflow), explainability (SHAP) e qualità (Cleanlab), unita a un flusso orchestrato (Airflow), evidenzia una **visione completa del ciclo di vita del dato**.\n",
    "\n",
    "Il sistema può essere esteso con:\n",
    "- Feature linguistiche da sintomi descrittivi,\n",
    "- Integrazione con referti medici,\n",
    "- Dashboard interattive per medici o pazienti.\n"
   ]
  }
 ],
 "metadata": {
  "language": "python",
  "language_info": {
   "name": "python"
  }
 },
 "nbformat": 4,
 "nbformat_minor": 5
}
