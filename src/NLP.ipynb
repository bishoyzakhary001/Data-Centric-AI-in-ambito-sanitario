{
  "cells": [
    {
      "cell_type": "code",
      "execution_count": null,
      "metadata": {
        "id": "veD9jD8rtXtQ"
      },
      "outputs": [],
      "source": [
        "import pandas as pd\n",
        "from sklearn.ensemble import RandomForestClassifiersource venv/bin/activate\n",
        "from sklearn.model_selection import train_test_split\n",
        "from sklearn.metrics import accuracy_score\n",
        "import joblib\n"
      ]
    },
    {
      "cell_type": "markdown",
      "metadata": {},
      "source": [
        "# Estrazione Sintomi da Testo Libero (NLP)"
      ]
    },
    {
      "cell_type": "markdown",
      "metadata": {},
      "source": [
        "In questo notebook implementiamo una pipeline NLP per estrarre automaticamente i sintomi da descrizioni testuali, tipiche dei pazienti in contesti reali. L'obiettivo è trasformare un testo in input in una rappresentazione strutturata compatibile con i modelli di classificazione delle malattie.\n"
      ]
    },
    {
      "cell_type": "code",
      "execution_count": null,
      "metadata": {},
      "outputs": [],
      "source": [
        "# Per Colab (decommentare)\n",
        "# !pip install spacy\n",
        "# !python -m spacy download en_core_web_sm\n"
      ]
    },
    {
      "cell_type": "code",
      "execution_count": null,
      "metadata": {},
      "outputs": [],
      "source": [
        "import spacy\n",
        "\n",
        "# Carica modello spaCy\n",
        "nlp = spacy.load(\"en_core_web_sm\")\n",
        "\n",
        "# Sintomi noti (semplificati)\n",
        "symptom_keywords = {\n",
        "    \"fever\": \"fever\",\n",
        "    \"headache\": \"headache\",\n",
        "    \"cough\": \"cough\",\n",
        "    \"sore throat\": \"sore_throat\",\n",
        "    \"fatigue\": \"fatigue\",\n",
        "    \"nausea\": \"nausea\",\n",
        "    \"diarrhea\": \"diarrhea\",\n",
        "    \"vomiting\": \"vomiting\",\n",
        "    \"chills\": \"chills\",\n",
        "    \"shortness of breath\": \"shortness_of_breath\",\n",
        "    \"muscle pain\": \"muscle_pain\"\n",
        "}\n"
      ]
    },
    {
      "cell_type": "code",
      "execution_count": null,
      "metadata": {},
      "outputs": [],
      "source": [
        "def extract_symptoms(text, symptom_dict):\n",
        "    doc = nlp(text.lower())\n",
        "    found = set()\n",
        "    for phrase, label in symptom_dict.items():\n",
        "        if phrase in doc.text:\n",
        "            found.add(label)\n",
        "    return found\n"
      ]
    },
    {
      "cell_type": "code",
      "execution_count": null,
      "metadata": {},
      "outputs": [],
      "source": [
        "text_input = \"Da tre giorni ho la febbre, tosse secca e dolore muscolare. Sono anche molto stanco.\"\n",
        "extracted = extract_symptoms(text_input, symptom_keywords)\n",
        "\n",
        "# Mostra risultato\n",
        "print(\"Sintomi trovati:\", extracted)\n"
      ]
    },
    {
      "cell_type": "code",
      "execution_count": null,
      "metadata": {},
      "outputs": [],
      "source": [
        "def symptom_vector(symptoms, all_symptoms):\n",
        "    return [1 if s in symptoms else 0 for s in all_symptoms]\n",
        "\n",
        "feature_vector = symptom_vector(extracted, symptom_keywords.values())\n",
        "print(\"Vettore binario:\", feature_vector)\n"
      ]
    },
    {
      "cell_type": "code",
      "execution_count": 14,
      "metadata": {
        "id": "MhHt09nKtZnU"
      },
      "outputs": [],
      "source": [
        "# Carica dataset (adatta il path se serve)\n",
        "df = pd.read_csv(\"/content/drive/MyDrive/BigData/dataset_weighted.csv\")  # Cambia path se non usi Colab\n",
        "\n",
        "# Seleziona colonne sintomi\n",
        "symptom_cols = [col for col in df.columns if \"Symptom_\" in col]\n",
        "X = df[symptom_cols]\n",
        "y = df[\"Disease\"]\n"
      ]
    },
    {
      "cell_type": "code",
      "execution_count": 16,
      "metadata": {
        "colab": {
          "base_uri": "https://localhost:8080/"
        },
        "id": "_PYaxuRatdGx",
        "outputId": "eb7f9927-0134-4c73-a413-85b61cb4dce8"
      },
      "outputs": [
        {
          "name": "stdout",
          "output_type": "stream",
          "text": [
            "Accuracy su test set: 0.994579945799458\n",
            "Modello salvato in 'modello_rf.pkl'\n"
          ]
        }
      ],
      "source": [
        "# Suddivisione train/test\n",
        "X_train, X_test, y_train, y_test = train_test_split(X, y, test_size=0.3, random_state=42)\n",
        "\n",
        "# Addestramento modello\n",
        "model = RandomForestClassifier(n_estimators=100, random_state=42)\n",
        "model.fit(X_train, y_train)\n",
        "\n",
        "# Valutazione\n",
        "y_pred = model.predict(X_test)\n",
        "acc = accuracy_score(y_test, y_pred)\n",
        "print(\"Accuracy su test set:\", acc)\n",
        "\n",
        "# Salvataggio in .pkl\n",
        "joblib.dump(model, \"/content/drive/MyDrive/BigData/modello_rf.pkl\")\n",
        "print(\"Modello salvato in 'modello_rf.pkl'\")\n"
      ]
    },
    {
      "cell_type": "markdown",
      "metadata": {
        "id": "tFR21Gn3taOH"
      },
      "source": [
        "# predict"
      ]
    },
    {
      "cell_type": "code",
      "execution_count": 17,
      "metadata": {
        "id": "nfiIxLpopkSX"
      },
      "outputs": [],
      "source": [
        "import spacy\n",
        "from deep_translator import GoogleTranslator\n",
        "import joblib\n",
        "import numpy as np\n",
        "\n",
        "# Carica modello NLP\n",
        "nlp = spacy.load(\"en_core_web_sm\")\n",
        "\n",
        "# Carica modello di classificazione\n",
        "model = joblib.load(\"/content/drive/MyDrive/BigData/modello_rf.pkl\")  # Assicurati che il file .pkl sia nella stessa directory\n"
      ]
    },
    {
      "cell_type": "code",
      "execution_count": 18,
      "metadata": {
        "id": "RU5oSmQBp7OG"
      },
      "outputs": [],
      "source": [
        "# Mappa di sintomi (sinonimi e varianti incluse)\n",
        "symptom_keywords = {\n",
        "    \"fever\": \"fever\", \"high fever\": \"fever\", \"febbre\": \"fever\",\n",
        "    \"headache\": \"headache\", \"mal di testa\": \"headache\",\n",
        "    \"cough\": \"cough\", \"dry cough\": \"cough\", \"tosse\": \"cough\",\n",
        "    \"sore throat\": \"sore_throat\", \"mal di gola\": \"sore_throat\",\n",
        "    \"fatigue\": \"fatigue\", \"tired\": \"fatigue\", \"stanco\": \"fatigue\",\n",
        "    \"nausea\": \"nausea\",\n",
        "    \"vomiting\": \"vomiting\", \"vomito\": \"vomiting\",\n",
        "    \"diarrhea\": \"diarrhea\", \"diarrea\": \"diarrhea\",\n",
        "    \"chills\": \"chills\", \"brividi\": \"chills\",\n",
        "    \"shortness of breath\": \"shortness_of_breath\", \"fiato corto\": \"shortness_of_breath\",\n",
        "    \"muscle pain\": \"muscle_pain\", \"dolore muscolare\": \"muscle_pain\"\n",
        "}\n"
      ]
    },
    {
      "cell_type": "code",
      "execution_count": 21,
      "metadata": {
        "id": "vnVHTTkeqBZr"
      },
      "outputs": [],
      "source": [
        "def extract_symptoms(text, symptom_dict):\n",
        "    doc = nlp(text.lower())\n",
        "    found = set()\n",
        "    for phrase, label in symptom_dict.items():\n",
        "        if phrase in doc.text:\n",
        "            found.add(label)\n",
        "    return found\n",
        "\n",
        "def symptom_vector(symptoms, training_columns, symptom_dict):\n",
        "    # Create a mapping from symptom label to symptom_column index\n",
        "    symptom_to_col = {label: i for i, col in enumerate(training_columns) for phrase, label in symptom_dict.items() if label in col}\n",
        "\n",
        "    # Initialize a vector of zeros with the same length as training_columns\n",
        "    vector = [0] * len(training_columns)\n",
        "\n",
        "    # Set the corresponding index to 1 if the symptom is found\n",
        "    for s in symptoms:\n",
        "        if s in symptom_to_col:\n",
        "            vector[symptom_to_col[s]] = 1\n",
        "    return vector"
      ]
    },
    {
      "cell_type": "code",
      "execution_count": 22,
      "metadata": {
        "colab": {
          "base_uri": "https://localhost:8080/"
        },
        "id": "4ScmOY6JqDt5",
        "outputId": "566e9674-927d-412e-c0c7-98c32d2af843"
      },
      "outputs": [
        {
          "name": "stdout",
          "output_type": "stream",
          "text": [
            "Frase tradotta: I have been on the sore throat and fever for two days.\n",
            "Sintomi estratti: {'sore_throat', 'fever'}\n",
            "Vettore binario: [0, 0, 0, 0, 0, 0, 0, 0, 0, 0, 0, 0, 0, 0, 0, 0, 0]\n",
            " Malattia Predetta: Acne\n"
          ]
        },
        {
          "name": "stderr",
          "output_type": "stream",
          "text": [
            "/usr/local/lib/python3.11/dist-packages/sklearn/utils/validation.py:2739: UserWarning: X does not have valid feature names, but RandomForestClassifier was fitted with feature names\n",
            "  warnings.warn(\n"
          ]
        }
      ],
      "source": [
        "# Inserisci frase in italiano\n",
        "input_text_it = \"Ho mal di gola e febbre da due giorni.\"\n",
        "\n",
        "# Traduzione automatica\n",
        "input_text_en = GoogleTranslator(source='auto', target='en').translate(input_text_it)\n",
        "print(\"Frase tradotta:\", input_text_en)\n",
        "\n",
        "# Estrazione sintomi\n",
        "extracted = extract_symptoms(input_text_en, symptom_keywords)\n",
        "print(\"Sintomi estratti:\", extracted)\n",
        "\n",
        "# Vettore sintomi\n",
        "# Use the columns from the training data X_train to ensure correct feature order and number\n",
        "vector = symptom_vector(extracted, X_train.columns, symptom_keywords)\n",
        "print(\"Vettore binario:\", vector)\n",
        "\n",
        "# Predizione\n",
        "prediction = model.predict([vector])\n",
        "print(\" Malattia Predetta:\", prediction[0])"
      ]
    }
  ],
  "metadata": {
    "colab": {
      "provenance": []
    },
    "kernelspec": {
      "display_name": "Python 3",
      "name": "python3"
    },
    "language_info": {
      "name": "python"
    }
  },
  "nbformat": 4,
  "nbformat_minor": 0
}
