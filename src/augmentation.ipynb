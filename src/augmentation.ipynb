{
 "cells": [
  {
   "cell_type": "markdown",
   "id": "3bae1c69",
   "metadata": {},
   "source": [
    "Data Augmentation (logica e sintetica)\n",
    "\n",
    "Obiettivo: aumentare i dati per le malattie con pochi esempi.\n",
    "Esempi:\n",
    "*\tse una malattia ha <10 pazienti → duplichi o combini righe con sintomi simili,\n",
    "*\tregole tipo: se fever e nausea → aggiungi vomit,\n",
    "*\trandomizzazione sintomi tra pazienti della stessa malattia."
   ]
  },
  {
   "cell_type": "code",
   "execution_count": null,
   "id": "2aeb386e",
   "metadata": {},
   "outputs": [],
   "source": [
    "import pandas as pd\n",
    "import numpy as np\n",
    "import random\n",
    "\n",
    "# Caricamento dataset curato\n",
    "df = pd.read_csv(\"/content/drive/MyDrive/BigData/dataset_curated_spark.csv\")\n",
    "\n",
    "# Identificazione delle colonne dei sintomi\n",
    "symptom_cols = [col for col in df.columns if \"Symptom_\" in col]\n",
    "# Conteggio delle occorrenze per malattia\n",
    "disease_counts = df['Disease'].value_counts()\n",
    "rare_diseases = disease_counts[disease_counts < 10].index.tolist()\n",
    "rare_diseases\n"
   ]
  },
  {
   "cell_type": "code",
   "execution_count": null,
   "id": "8d2a4e91",
   "metadata": {},
   "outputs": [],
   "source": [
    "def generate_synthetic_rows(df_sub, n_new=5):\n",
    "    new_rows = []\n",
    "    for _ in range(n_new):\n",
    "        r1, r2 = df_sub.sample(2)\n",
    "        new_symptoms = []\n",
    "        for col in symptom_cols:\n",
    "            s = r1[col] if random.random() > 0.5 else r2[col]\n",
    "            new_symptoms.append(s)\n",
    "        new_rows.append([df_sub['Disease'].iloc[0]] + new_symptoms)\n",
    "    return new_rows\n"
   ]
  },
  {
   "cell_type": "code",
   "execution_count": null,
   "id": "44fa5463",
   "metadata": {},
   "outputs": [],
   "source": [
    "synthetic_data = []\n",
    "\n",
    "for disease in rare_diseases:\n",
    "    subset = df[df['Disease'] == disease]\n",
    "    if len(subset) >= 2:\n",
    "        new_samples = generate_synthetic_rows(subset, n_new=(10 - len(subset)))\n",
    "        synthetic_data.extend(new_samples)\n",
    "\n",
    "# Creazione DataFrame sintetico\n",
    "df_synth = pd.DataFrame(synthetic_data, columns=['Disease'] + symptom_cols)\n"
   ]
  },
  {
   "cell_type": "code",
   "execution_count": null,
   "id": "ba362888",
   "metadata": {},
   "outputs": [],
   "source": [
    "# Unione con dataset originale\n",
    "df_augmented = pd.concat([df, df_synth], ignore_index=True)\n",
    "\n",
    "# Ricrea symptom_count\n",
    "df_augmented[\"symptom_count\"] = df_augmented[symptom_cols].notna().sum(axis=1)\n",
    "\n",
    "# Salva il dataset finale\n",
    "df_augmented.to_csv(\"/content/drive/MyDrive/BigData/dataset_augmented.csv\", index=False)\n",
    "df_augmented.shape\n"
   ]
  }
 ],
 "metadata": {
  "kernelspec": {
   "display_name": "Python 3",
   "language": "python",
   "name": "python3"
  },
  "language_info": {
   "name": "python",
   "version": "3.10.18"
  }
 },
 "nbformat": 4,
 "nbformat_minor": 5
}
