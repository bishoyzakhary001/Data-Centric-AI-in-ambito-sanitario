{
 "cells": [
  {
   "cell_type": "code",
   "execution_count": null,
   "id": "76abca51",
   "metadata": {},
   "outputs": [],
   "source": [
    "import pandas as pd\n",
    "import matplotlib.pyplot as plt\n",
    "import seaborn as sns\n",
    "import numpy as np"
   ]
  },
  {
   "cell_type": "code",
   "execution_count": null,
   "id": "67b9f673",
   "metadata": {},
   "outputs": [],
   "source": [
    "# Selezione delle colonne dei sintomi\n",
    "symptom_cols = [col for col in df.columns if col.startswith(\"Symptom_\")]\n"
   ]
  },
  {
   "cell_type": "code",
   "execution_count": null,
   "id": "b3a4d139",
   "metadata": {},
   "outputs": [],
   "source": [
    "\n",
    "\n",
    "def clean_symptom(s):\n",
    "    if pd.isna(s):\n",
    "        return np.nan\n",
    "    return s.strip().lower().replace(\"_\", \" \")\n",
    "\n",
    "# Applichiamo la funzione di pulizia a tutte le colonne dei sintomi\n",
    "for col in symptom_cols:\n",
    "    df[col] = df[col].apply(clean_symptom)\n"
   ]
  },
  {
   "cell_type": "code",
   "execution_count": null,
   "id": "cf27ba41",
   "metadata": {},
   "outputs": [],
   "source": [
    "# Conta dei sintomi non nulli\n",
    "df[\"symptom_count\"] = df[symptom_cols].notna().sum(axis=1)\n"
   ]
  },
  {
   "cell_type": "code",
   "execution_count": null,
   "id": "e0e49cdc",
   "metadata": {},
   "outputs": [],
   "source": [
    "# Manteniamo solo pazienti con almeno 2 sintomi\n",
    "df = df[df[\"symptom_count\"] >= 2].reset_index(drop=True)\n"
   ]
  },
  {
   "cell_type": "code",
   "execution_count": null,
   "id": "d3fa3b54",
   "metadata": {},
   "outputs": [],
   "source": [
    "# Mappa di sinonimi (può essere estesa)\n",
    "synonyms = {\n",
    "    \"vomiting\": \"vomit\",\n",
    "    \"head ache\": \"headache\",\n",
    "    \"high fever\": \"fever\",\n",
    "    \"skin rash\": \"rash\"\n",
    "}\n",
    "\n",
    "def unify_synonym(s):\n",
    "    if pd.isna(s):\n",
    "        return s\n",
    "    return synonyms.get(s, s)\n",
    "\n",
    "# Applichiamo la sostituzione\n",
    "for col in symptom_cols:\n",
    "    df[col] = df[col].apply(unify_synonym)\n"
   ]
  },
  {
   "cell_type": "code",
   "execution_count": null,
   "id": "15f7d13d",
   "metadata": {},
   "outputs": [],
   "source": [
    "# Salvataggio su file\n",
    "df.to_csv(\"/content/drive/MyDrive/BigData/dataset_cleaned.csv\", index=False)\n",
    "df.head()\n"
   ]
  }
 ],
 "metadata": {
  "language_info": {
   "name": "python"
  }
 },
 "nbformat": 4,
 "nbformat_minor": 5
}
