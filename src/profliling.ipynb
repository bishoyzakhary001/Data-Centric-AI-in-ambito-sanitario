{
 "cells": [
  {
   "cell_type": "markdown",
   "id": "d3f3bc56",
   "metadata": {},
   "source": [
    "## Data Profiling\n",
    "\n",
    "1.  Conteggio malattie (Disease) e classi più frequenti\n",
    "1.  Conteggio sintomi totali per riga (symptom_count)\n",
    "2.   Percentuale di NaN per ogni colonna Symptom_*\n",
    "2.   Frequenza di ogni sintomo su tutto il dataset\n",
    "\n",
    "\n",
    "\tanalizzare il dataset,\n",
    "\t•\tvisualizzare la distribuzione delle malattie,\n",
    "\t•\tcontare i sintomi per paziente,\n",
    "\t•\tindividuare i sintomi più frequenti e le colonne con più valori mancanti.\n",
    "\n",
    "\n",
    "\n"
   ]
  },
  {
   "cell_type": "code",
   "execution_count": null,
   "id": "4efc9d43",
   "metadata": {},
   "outputs": [],
   "source": [
    "import pandas as pd\n",
    "import matplotlib.pyplot as plt\n",
    "import seaborn as sns\n",
    "\n",
    "# Caricamento dataset\n",
    "df = pd.read_csv(\"/content/drive/MyDrive/BigData/dataset.csv\")\n",
    "\n",
    "# Colonne dei sintomi\n",
    "symptom_cols = [col for col in df.columns if col.startswith(\"Symptom_\")]\n"
   ]
  },
  {
   "cell_type": "code",
   "execution_count": null,
   "id": "7461ce2a",
   "metadata": {},
   "outputs": [],
   "source": [
    "# Numero di sintomi per ogni paziente\n",
    "df[\"symptom_count\"] = df[symptom_cols].notna().sum(axis=1)\n",
    "# Conteggio delle malattie\n",
    "disease_counts = df[\"Disease\"].value_counts()\n",
    "disease_counts.head(10)\n"
   ]
  },
  {
   "cell_type": "code",
   "execution_count": null,
   "id": "d89976f2",
   "metadata": {},
   "outputs": [],
   "source": [
    "# Percentuale di valori mancanti per sintomo\n",
    "nan_percent = df[symptom_cols].isna().mean().sort_values(ascending=False)\n",
    "nan_percent\n",
    "# Frequenza assoluta dei sintomi\n",
    "symptom_list = pd.Series(df[symptom_cols].values.ravel()).dropna()\n",
    "symptom_freq = symptom_list.value_counts()\n",
    "symptom_freq.head(15)\n"
   ]
  },
  {
   "cell_type": "code",
   "execution_count": null,
   "id": "9ef7c177",
   "metadata": {},
   "outputs": [],
   "source": [
    "plt.figure(figsize=(10, 6))\n",
    "sns.barplot(x=disease_counts.head(10).values, y=disease_counts.head(10).index)\n",
    "plt.title(\"Top 10 malattie più frequenti\")\n",
    "plt.xlabel(\"Numero di casi\")\n",
    "plt.ylabel(\"Malattia\")\n",
    "plt.tight_layout()\n",
    "plt.show()\n"
   ]
  },
  {
   "cell_type": "code",
   "execution_count": null,
   "id": "a8561a63",
   "metadata": {},
   "outputs": [],
   "source": [
    "plt.figure(figsize=(8, 5))\n",
    "sns.histplot(df[\"symptom_count\"], bins=range(1, 20), kde=False)\n",
    "plt.title(\"Distribuzione del numero di sintomi per paziente\")\n",
    "plt.xlabel(\"Numero di sintomi\")\n",
    "plt.ylabel(\"Numero di pazienti\")\n",
    "plt.tight_layout()\n",
    "plt.show()\n"
   ]
  },
  {
   "cell_type": "code",
   "execution_count": null,
   "id": "c9fb80ca",
   "metadata": {},
   "outputs": [],
   "source": [
    "plt.figure(figsize=(10, 6))\n",
    "sns.barplot(x=symptom_freq.head(15).values, y=symptom_freq.head(15).index)\n",
    "plt.title(\"Sintomi più frequenti\")\n",
    "plt.xlabel(\"Frequenza\")\n",
    "plt.ylabel(\"Sintomo\")\n",
    "plt.tight_layout()\n",
    "plt.show()\n"
   ]
  }
 ],
 "metadata": {
  "kernelspec": {
   "display_name": "Python 3",
   "language": "python",
   "name": "python3"
  },
  "language_info": {
   "name": "python",
   "version": "3.10.18"
  }
 },
 "nbformat": 4,
 "nbformat_minor": 5
}
