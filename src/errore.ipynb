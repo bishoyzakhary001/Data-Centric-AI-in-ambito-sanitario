{
 "cells": [
  {
   "cell_type": "markdown",
   "id": "6f0ea8b0",
   "metadata": {},
   "source": [
    "# Verifica qualità delle etichette con Cleanlab"
   ]
  },
  {
   "cell_type": "code",
   "execution_count": null,
   "id": "818f5d59",
   "metadata": {},
   "outputs": [],
   "source": [
    "# Se sei su Colab, esegui:\n",
    "# !pip install cleanlab\n"
   ]
  },
  {
   "cell_type": "code",
   "execution_count": null,
   "id": "99202751",
   "metadata": {},
   "outputs": [],
   "source": [
    "import pandas as pd\n",
    "from sklearn.ensemble import RandomForestClassifier\n",
    "from sklearn.model_selection import cross_val_predict\n",
    "from sklearn.feature_extraction.text import TfidfVectorizer\n",
    "from cleanlab.classification import CleanLearning\n",
    "from cleanlab.filter import find_label_issues\n",
    "\n",
    "# Caricamento dataset (può essere pesato o base)\n",
    "df = pd.read_csv(\"dataset_weighted.csv\")\n",
    "\n",
    "# Colonne dei sintomi\n",
    "symptom_cols = [col for col in df.columns if \"Symptom_\" in col]\n"
   ]
  },
  {
   "cell_type": "code",
   "execution_count": null,
   "id": "dd85201f",
   "metadata": {},
   "outputs": [],
   "source": [
    "import numpy as np\n",
    "np.random.seed(42)\n",
    "\n",
    "# Encode labels numerici\n",
    "from sklearn.preprocessing import LabelEncoder\n",
    "le = LabelEncoder()\n",
    "y_encoded = le.fit_transform(y)\n",
    "\n",
    "# Introduci errori casuali su 10 campioni\n",
    "n_errors = 10\n",
    "idx_to_corrupt = np.random.choice(len(y_encoded), n_errors, replace=False)\n",
    "\n",
    "original_labels = y_encoded.copy()\n",
    "for idx in idx_to_corrupt:\n",
    "    choices = list(set(y_encoded) - {y_encoded[idx]})\n",
    "    y_encoded[idx] = np.random.choice(choices)\n",
    "\n",
    "print(\"Etichette corrotte in posizione:\", idx_to_corrupt)\n"
   ]
  },
  {
   "cell_type": "code",
   "execution_count": null,
   "id": "73e39785",
   "metadata": {},
   "outputs": [],
   "source": [
    "# Features: vettore numerico da sintomi pesati\n",
    "X = df[symptom_cols].values\n",
    "y = df[\"Disease\"].values\n"
   ]
  },
  {
   "cell_type": "code",
   "execution_count": null,
   "id": "dce9a864",
   "metadata": {},
   "outputs": [],
   "source": [
    "# Classificatore + CleanLearning\n",
    "clf = RandomForestClassifier(n_estimators=100, random_state=42)\n",
    "clean_model = CleanLearning(clf, seed=42)\n",
    "\n",
    "# Trova etichette sospette\n",
    "issues = find_label_issues(labels=y, pred_probs=cross_val_predict(clf, X, y, method='predict_proba'), return_indices_ranked_by='self_confidence')\n",
    "\n",
    "# Mostra problemi trovati\n",
    "df_issues = df.iloc[issues][[\"Disease\"] + symptom_cols]\n",
    "df_issues.head()\n"
   ]
  },
  {
   "cell_type": "code",
   "execution_count": null,
   "id": "8204072a",
   "metadata": {},
   "outputs": [],
   "source": [
    "df_issues.to_csv(\"label_issues_detected.csv\", index=False)\n",
    "print(f\"Trovati {len(df_issues)} potenziali errori di etichettatura.\")\n"
   ]
  }
 ],
 "metadata": {
  "language": "python"
 },
 "nbformat": 4,
 "nbformat_minor": 5
}
