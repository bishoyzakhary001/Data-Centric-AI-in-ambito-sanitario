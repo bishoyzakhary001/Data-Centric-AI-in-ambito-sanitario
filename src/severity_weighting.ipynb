{
 "cells": [
  {
   "cell_type": "code",
   "execution_count": null,
   "id": "55d4a13f",
   "metadata": {},
   "outputs": [],
   "source": [
    "import pandas as pd\n",
    "\n",
    "# Dataset aumentato\n",
    "df = pd.read_csv(\"/content/drive/MyDrive/BigData/dataset_augmented.csv\")\n",
    "\n",
    "# Dataset con gravità dei sintomi\n",
    "severity = pd.read_csv(\"/content/drive/MyDrive/BigData/Symptom-severity.csv\")\n",
    "\n",
    "# Normalizza nomi sintomi\n",
    "severity[\"Symptom\"] = severity[\"Symptom\"].str.strip().str.lower().str.replace(\"_\", \" \")\n",
    "\n",
    "# Mappa gravità in un dizionario\n",
    "severity_map = dict(zip(severity[\"Symptom\"], severity[\"weight\"]))\n"
   ]
  },
  {
   "cell_type": "code",
   "execution_count": null,
   "id": "46950c76",
   "metadata": {},
   "outputs": [],
   "source": [
    "# Colonne dei sintomi\n",
    "symptom_cols = [col for col in df.columns if \"Symptom_\" in col]\n",
    "\n",
    "# Sostituisci valore stringa con gravità\n",
    "for col in symptom_cols:\n",
    "    df[col] = df[col].map(severity_map)\n",
    "\n",
    "# Sostituisci NaN con 0\n",
    "df[symptom_cols] = df[symptom_cols].fillna(0)\n"
   ]
  },
  {
   "cell_type": "code",
   "execution_count": null,
   "id": "d9c04d3a",
   "metadata": {},
   "outputs": [],
   "source": [
    "# Ricrea symptom_count come somma dei pesi\n",
    "df[\"symptom_count\"] = df[symptom_cols].sum(axis=1)\n",
    "\n",
    "# Salva\n",
    "df.to_csv(\"/content/drive/MyDrive/BigData/dataset_weighted.csv\", index=False)\n",
    "df[symptom_cols + [\"symptom_count\"]].head()\n"
   ]
  }
 ],
 "metadata": {
  "language_info": {
   "name": "python"
  }
 },
 "nbformat": 4,
 "nbformat_minor": 5
}
