{
 "cells": [
  {
   "cell_type": "markdown",
   "id": "4616bdc6",
   "metadata": {},
   "source": [
    "# Interpretabilità del modello con SHAP"
   ]
  },
  {
   "cell_type": "code",
   "execution_count": null,
   "id": "7f756716",
   "metadata": {},
   "outputs": [],
   "source": [
    "# Se stai usando Colab:\n",
    "# !pip install shap\n"
   ]
  },
  {
   "cell_type": "code",
   "execution_count": null,
   "id": "605602d7",
   "metadata": {},
   "outputs": [],
   "source": [
    "import pandas as pd\n",
    "import shap\n",
    "import matplotlib.pyplot as plt\n",
    "from sklearn.ensemble import RandomForestClassifier\n",
    "from sklearn.preprocessing import LabelEncoder\n",
    "from sklearn.model_selection import train_test_split\n",
    "\n",
    "# Caricamento dataset\n",
    "df = pd.read_csv(\"dataset_weighted.csv\")\n",
    "symptom_cols = [col for col in df.columns if \"Symptom_\" in col]\n",
    "\n",
    "X = df[symptom_cols]\n",
    "y = df[\"Disease\"]\n",
    "\n",
    "# Codifica etichette\n",
    "le = LabelEncoder()\n",
    "y_encoded = le.fit_transform(y)\n",
    "\n",
    "# Train/test split\n",
    "X_train, X_test, y_train, y_test = train_test_split(X, y_encoded, test_size=0.3, random_state=42)\n"
   ]
  },
  {
   "cell_type": "code",
   "execution_count": null,
   "id": "c926c552",
   "metadata": {},
   "outputs": [],
   "source": [
    "# Modello Random Forest\n",
    "model = RandomForestClassifier(n_estimators=100, random_state=42)\n",
    "model.fit(X_train, y_train)\n"
   ]
  },
  {
   "cell_type": "code",
   "execution_count": null,
   "id": "62efaeb3",
   "metadata": {},
   "outputs": [],
   "source": [
    "# Costruzione SHAP explainer\n",
    "explainer = shap.TreeExplainer(model)\n",
    "shap_values = explainer.shap_values(X_test)\n"
   ]
  },
  {
   "cell_type": "code",
   "execution_count": null,
   "id": "becda0c7",
   "metadata": {},
   "outputs": [],
   "source": [
    "# SHAP summary plot (globale)\n",
    "shap.summary_plot(shap_values, X_test, plot_type=\"bar\")\n"
   ]
  }
 ],
 "metadata": {
  "language": "python"
 },
 "nbformat": 4,
 "nbformat_minor": 5
}
