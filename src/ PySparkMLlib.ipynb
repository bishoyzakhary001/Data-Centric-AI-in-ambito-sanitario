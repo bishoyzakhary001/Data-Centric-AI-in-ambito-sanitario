{
 "cells": [
  {
   "cell_type": "markdown",
   "id": "919f72cd",
   "metadata": {},
   "source": [
    "# Modellazione con PySpark MLlib"
   ]
  },
  {
   "cell_type": "code",
   "execution_count": null,
   "id": "3ba5e1e4",
   "metadata": {},
   "outputs": [],
   "source": [
    "from pyspark.sql import SparkSession\n",
    "from pyspark.ml.feature import StringIndexer, VectorAssembler\n",
    "from pyspark.ml.classification import RandomForestClassifier\n",
    "from pyspark.ml.evaluation import MulticlassClassificationEvaluator\n",
    "from pyspark.sql.functions import col\n",
    "\n",
    "# Avvio della sessione Spark\n",
    "spark = SparkSession.builder.appName(\"SymptomClassification\").getOrCreate()\n"
   ]
  },
  {
   "cell_type": "code",
   "execution_count": null,
   "id": "9ad3950d",
   "metadata": {},
   "outputs": [],
   "source": [
    "# Caricamento del dataset con sintomi aumentati\n",
    "df = spark.read.option(\"header\", \"true\").option(\"inferSchema\", \"true\").csv(\"/content/drive/MyDrive/BigData/dataset_augmented.csv\")\n",
    "\n",
    "# Identificazione delle colonne sintomatiche\n",
    "symptom_cols = [c for c in df.columns if \"Symptom_\" in c]\n"
   ]
  },
  {
   "cell_type": "code",
   "execution_count": null,
   "id": "ccb70c74",
   "metadata": {},
   "outputs": [],
   "source": [
    "# Creazione di colonne binarie per ogni sintomo presente\n",
    "from pyspark.sql.functions import when\n",
    "\n",
    "for col_name in symptom_cols:\n",
    "    df = df.withColumn(col_name, when(col(col_name).isNotNull(), 1).otherwise(0))\n"
   ]
  },
  {
   "cell_type": "code",
   "execution_count": null,
   "id": "0f4c0ca4",
   "metadata": {},
   "outputs": [],
   "source": [
    "# Indicizzazione della colonna Disease\n",
    "indexer = StringIndexer(inputCol=\"Disease\", outputCol=\"label\")\n",
    "df = indexer.fit(df).transform(df)\n"
   ]
  },
  {
   "cell_type": "code",
   "execution_count": null,
   "id": "5431931a",
   "metadata": {},
   "outputs": [],
   "source": [
    "# Assemblaggio delle colonne sintomo in un unico vettore\n",
    "assembler = VectorAssembler(inputCols=symptom_cols, outputCol=\"features\")\n",
    "df = assembler.transform(df)\n"
   ]
  },
  {
   "cell_type": "code",
   "execution_count": null,
   "id": "3773149c",
   "metadata": {},
   "outputs": [],
   "source": [
    "# Divisione train/test\n",
    "train_data, test_data = df.randomSplit([0.7, 0.3], seed=42)\n"
   ]
  },
  {
   "cell_type": "code",
   "execution_count": null,
   "id": "1d77e880",
   "metadata": {},
   "outputs": [],
   "source": [
    "# Random Forest Classifiera\n",
    "rf = RandomForestClassifier(featuresCol=\"features\", labelCol=\"label\", numTrees=100)\n",
    "model = rf.fit(train_data)\n",
    "predictions = model.transform(test_data)\n"
   ]
  },
  {
   "cell_type": "code",
   "execution_count": null,
   "id": "9ea2fc73",
   "metadata": {},
   "outputs": [],
   "source": [
    "# Valutazione\n",
    "evaluator = MulticlassClassificationEvaluator(labelCol=\"label\", predictionCol=\"prediction\", metricName=\"accuracy\")\n",
    "accuracy = evaluator.evaluate(predictions)\n",
    "print(\"Accuracy:\", accuracy)\n",
    "# Salvataggio modello (opzionale)\n",
    "model.save(\"content/drive/MyDrive/BigData/rf_model_symptoms\")\n"
   ]
  }
 ],
 "metadata": {
  "language_info": {
   "name": "python"
  }
 },
 "nbformat": 4,
 "nbformat_minor": 5
}
