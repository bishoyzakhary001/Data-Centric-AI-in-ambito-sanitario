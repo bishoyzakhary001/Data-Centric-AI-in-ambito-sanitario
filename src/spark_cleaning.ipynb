{
 "cells": [
  {
   "cell_type": "code",
   "execution_count": null,
   "id": "dabbc697",
   "metadata": {},
   "outputs": [],
   "source": [
    "from pyspark.sql import SparkSession\n",
    "from pyspark.sql.functions import col, lower, regexp_replace, count, when\n",
    "from pyspark.sql.types import StringType\n",
    "from pyspark.sql.functions import udf\n",
    "# Avvio della sessione Spark\n",
    "spark = SparkSession.builder.appName(\"SymptomDataCleaning\").getOrCreate()\n"
   ]
  },
  {
   "cell_type": "code",
   "execution_count": null,
   "id": "cfcc77de",
   "metadata": {},
   "outputs": [],
   "source": [
    "# Caricamento del file CSV\n",
    "df = spark.read.option(\"header\", \"true\").csv(\"/content/drive/MyDrive/BigData/dataset_cleaned.csv\")\n",
    "\n",
    "# Identificazione delle colonne dei sintomi\n",
    "symptom_cols = [col_name for col_name in df.columns if \"Symptom_\" in col_name]\n",
    "df.select(symptom_cols).show(5)\n"
   ]
  },
  {
   "cell_type": "code",
   "execution_count": null,
   "id": "34276367",
   "metadata": {},
   "outputs": [],
   "source": [
    "# Pulizia sintomi: lowercase, underscore → spazio, rimozione spazi multipli\n",
    "for col_name in symptom_cols:\n",
    "    df = df.withColumn(col_name, regexp_replace(lower(col(col_name)), \"_\", \" \"))\n",
    "    df = df.withColumn(col_name, regexp_replace(col(col_name), \"\\s+\", \" \"))\n"
   ]
  },
  {
   "cell_type": "code",
   "execution_count": null,
   "id": "b19f3956",
   "metadata": {},
   "outputs": [],
   "source": [
    "# Mappa sinonimi (esempio base)\n",
    "synonym_map = {\n",
    "    \"vomiting\": \"vomit\",\n",
    "    \"head ache\": \"headache\",\n",
    "    \"high fever\": \"fever\",\n",
    "    \"skin rash\": \"rash\"\n",
    "}\n",
    "\n",
    "# UDF per la sostituzione\n",
    "def unify_symptom(s):\n",
    "    return synonym_map.get(s, s) if s else s\n",
    "\n",
    "\n",
    "unify_udf = udf(unify_symptom, StringType())\n",
    "\n",
    "# Applica UDF a tutte le colonne dei sintomi\n",
    "for col_name in symptom_cols:\n",
    "    df = df.withColumn(col_name, unify_udf(col(col_name)))\n"
   ]
  },
  {
   "cell_type": "code",
   "execution_count": null,
   "id": "dd67bb5b",
   "metadata": {},
   "outputs": [],
   "source": [
    "# Calcola symptom_count\n",
    "df = df.withColumn(\"symptom_count\", sum([when(col(c).isNotNull(), 1).otherwise(0) for c in symptom_cols]))\n"
   ]
  },
  {
   "cell_type": "code",
   "execution_count": null,
   "id": "0056f6bf",
   "metadata": {},
   "outputs": [],
   "source": [
    "# Mantieni solo righe con almeno 2 sintomi\n",
    "df = df.filter(col(\"symptom_count\") >= 2)\n"
   ]
  },
  {
   "cell_type": "code",
   "execution_count": null,
   "id": "84ec5f4e",
   "metadata": {},
   "outputs": [],
   "source": [
    "# Salva su CSV\n",
    "df.toPandas().to_csv(\"/content/drive/MyDrive/BigData/dataset_curated_spark.csv\", index=False)\n",
    "df.select(\"Disease\", \"symptom_count\").show(5)\n"
   ]
  }
 ],
 "metadata": {
  "language_info": {
   "name": "python"
  }
 },
 "nbformat": 4,
 "nbformat_minor": 5
}
