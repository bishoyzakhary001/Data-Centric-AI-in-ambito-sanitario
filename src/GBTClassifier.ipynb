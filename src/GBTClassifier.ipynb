{
 "cells": [
  {
   "cell_type": "markdown",
   "id": "a0f216d8",
   "metadata": {},
   "source": [
    "# Gradient Boosted Trees (GBTClassifier)\n"
   ]
  },
  {
   "cell_type": "code",
   "execution_count": null,
   "id": "54f2991f",
   "metadata": {},
   "outputs": [],
   "source": [
    "from pyspark.sql import SparkSession\n",
    "from pyspark.ml.feature import StringIndexer, VectorAssembler\n",
    "from pyspark.ml.classification import GBTClassifier\n",
    "from pyspark.ml.evaluation import MulticlassClassificationEvaluator\n",
    "from pyspark.sql.functions import col, when\n",
    "\n",
    "# Avvio della sessione Spark\n",
    "spark = SparkSession.builder.appName(\"GBTClassification\").getOrCreate()\n"
   ]
  },
  {
   "cell_type": "code",
   "execution_count": null,
   "id": "0dd0b401",
   "metadata": {},
   "outputs": [],
   "source": [
    "# Caricamento del dataset aumentato\n",
    "df = spark.read.option(\"header\", \"true\").option(\"inferSchema\", \"true\").csv(\"/content/drive/MyDrive/BigData/dataset_augmented.csv\")\n",
    "\n",
    "# Identificazione colonne sintomi\n",
    "symptom_cols = [c for c in df.columns if \"Symptom_\" in c]\n"
   ]
  },
  {
   "cell_type": "code",
   "execution_count": null,
   "id": "621dc0c4",
   "metadata": {},
   "outputs": [],
   "source": [
    "# Conversione sintomi in binario (1 = presente, 0 = assente)\n",
    "for col_name in symptom_cols:\n",
    "    df = df.withColumn(col_name, when(col(col_name).isNotNull(), 1).otherwise(0))\n"
   ]
  },
  {
   "cell_type": "code",
   "execution_count": null,
   "id": "4ca4b5e5",
   "metadata": {},
   "outputs": [],
   "source": [
    "# Indicizzazione delle etichette\n",
    "indexer = StringIndexer(inputCol=\"Disease\", outputCol=\"label\")\n",
    "df = indexer.fit(df).transform(df)\n"
   ]
  },
  {
   "cell_type": "code",
   "execution_count": null,
   "id": "cac02cb1",
   "metadata": {},
   "outputs": [],
   "source": [
    "# Creazione del vettore delle feature\n",
    "assembler = VectorAssembler(inputCols=symptom_cols, outputCol=\"features\")\n",
    "df = assembler.transform(df)\n"
   ]
  },
  {
   "cell_type": "code",
   "execution_count": null,
   "id": "b6c18502",
   "metadata": {},
   "outputs": [],
   "source": [
    "# Divisione del dataset\n",
    "train_data, test_data = df.randomSplit([0.7, 0.3], seed=42)\n"
   ]
  },
  {
   "cell_type": "code",
   "execution_count": null,
   "id": "f591a2d3",
   "metadata": {},
   "outputs": [],
   "source": [
    "# Random Forest Classifier (instead of GBTClassifier for multi-class)\n",
    "# GBTClassifier in PySpark MLlib is primarily for binary classification\n",
    "rf = RandomForestClassifier(featuresCol=\"features\", labelCol=\"label\", numTrees=100)\n",
    "model = rf.fit(train_data)\n",
    "predictions = model.transform(test_data)"
   ]
  },
  {
   "cell_type": "code",
   "execution_count": null,
   "id": "06feec8c",
   "metadata": {},
   "outputs": [],
   "source": [
    "# Valutazione dell'accuracy\n",
    "evaluator = MulticlassClassificationEvaluator(labelCol=\"label\", predictionCol=\"prediction\", metricName=\"accuracy\")\n",
    "accuracy = evaluator.evaluate(predictions)\n",
    "print(\"Accuracy:\", accuracy)\n"
   ]
  }
 ],
 "metadata": {
  "language_info": {
   "name": "python"
  }
 },
 "nbformat": 4,
 "nbformat_minor": 5
}
