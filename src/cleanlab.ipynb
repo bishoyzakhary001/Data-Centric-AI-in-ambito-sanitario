{
 "cells": [
  {
   "cell_type": "code",
   "execution_count": null,
   "id": "91182a40",
   "metadata": {},
   "outputs": [],
   "source": [
    "import pandas as pd\n",
    "from sklearn.ensemble import RandomForestClassifier\n",
    "from sklearn.model_selection import cross_val_predict\n",
    "from sklearn.feature_extraction.text import TfidfVectorizer\n",
    "from cleanlab.classification import CleanLearning\n",
    "from cleanlab.filter import find_label_issues\n",
    "\n",
    "# Caricamento dataset (può essere pesato o base)\n",
    "df = pd.read_csv(\"/content/drive/MyDrive/BigData/dataset_weighted.csv\")\n",
    "\n",
    "# Colonne dei sintomi\n",
    "symptom_cols = [col for col in df.columns if \"Symptom_\" in col]\n"
   ]
  },
  {
   "cell_type": "code",
   "execution_count": null,
   "id": "e35b2e41",
   "metadata": {},
   "outputs": [],
   "source": [
    "# Features: vettore numerico da sintomi pesati\n",
    "X = df[symptom_cols].values\n",
    "y = df[\"Disease\"].values\n"
   ]
  },
  {
   "cell_type": "code",
   "execution_count": null,
   "id": "6b22625b",
   "metadata": {},
   "outputs": [],
   "source": [
    "from sklearn.preprocessing import LabelEncoder\n",
    "\n",
    "# Encode string labels to integers\n",
    "label_encoder = LabelEncoder()\n",
    "y_encoded = label_encoder.fit_transform(y)"
   ]
  },
  {
   "cell_type": "code",
   "execution_count": null,
   "id": "f96ebfd6",
   "metadata": {},
   "outputs": [],
   "source": [
    "# Classificatore + CleanLearning\n",
    "clf = RandomForestClassifier(n_estimators=100, random_state=42)\n",
    "clean_model = CleanLearning(clf, seed=42)\n",
    "\n",
    "# Trova etichette sospette\n",
    "issues = find_label_issues(labels=y_encoded, pred_probs=cross_val_predict(clf, X, y_encoded, method='predict_proba'), return_indices_ranked_by='self_confidence')\n",
    "\n",
    "# Mostra problemi trovati\n",
    "df_issues = df.iloc[issues][[\"Disease\"] + symptom_cols]\n",
    "df_issues.head()"
   ]
  },
  {
   "cell_type": "markdown",
   "id": "ecb27fae",
   "metadata": {},
   "source": [
    "Cleanlab non ha trovato anomalie evidenti nelle etichette, cioè:\n",
    "* Ogni esempio è coerente con le predizioni del modello,\n",
    "*\tI sintomi assegnati corrispondono abbastanza bene alla malattia associata."
   ]
  },
  {
   "cell_type": "markdown",
   "id": "f691a478",
   "metadata": {},
   "source": [
    " Perché è successo?\n",
    "1.\tDataset sintetico e pulito\n",
    "Il dataset Kaggle è stato costruito in modo controllato → meno probabile trovare errori.\n",
    "2.\tModello molto accurato (~93%)\n",
    "Cleanlab lavora meglio quando il modello fa errori → se il modello ha troppa confidenza, Cleanlab non segnala nulla.\n",
    "3.\tNessun rumore/ambiguità nelle etichette\n",
    "\n"
   ]
  },
  {
   "cell_type": "code",
   "execution_count": null,
   "id": "554746ca",
   "metadata": {},
   "outputs": [],
   "source": [
    "df_issues.to_csv(\"/content/drive/MyDrive/BigData/label_issues_detected.csv\", index=False)\n",
    "print(f\"Trovati {len(df_issues)} potenziali errori di etichettatura.\")\n"
   ]
  },
  {
   "cell_type": "code",
   "execution_count": null,
   "id": "b0bf0ff5",
   "metadata": {},
   "outputs": [],
   "source": [
    "import numpy as np\n",
    "np.random.seed(42)\n",
    "\n",
    "# Encode labels numerici\n",
    "from sklearn.preprocessing import LabelEncoder\n",
    "le = LabelEncoder()\n",
    "y_encoded = le.fit_transform(y)\n",
    "\n",
    "# Introduci errori casuali su 10 campioni\n",
    "n_errors = 10\n",
    "idx_to_corrupt = np.random.choice(len(y_encoded), n_errors, replace=False)\n",
    "\n",
    "original_labels = y_encoded.copy()\n",
    "for idx in idx_to_corrupt:\n",
    "    choices = list(set(y_encoded) - {y_encoded[idx]})\n",
    "    y_encoded[idx] = np.random.choice(choices)\n",
    "\n",
    "print(\"Etichette corrotte in posizione:\", idx_to_corrupt)\n",
    "\n",
    "# Features: vettore numerico da sintomi pesati\n",
    "X = df[symptom_cols].values\n",
    "y = df[\"Disease\"].values\n",
    "\n",
    "\n",
    "# Classificatore + CleanLearning\n",
    "clf = RandomForestClassifier(n_estimators=100, random_state=42)\n",
    "clean_model = CleanLearning(clf, seed=42)\n",
    "from sklearn.preprocessing import LabelEncoder\n",
    "\n",
    "# Encode string labels to integers\n",
    "label_encoder = LabelEncoder()\n",
    "y_encoded = label_encoder.fit_transform(y)\n",
    "# Encode string labels to integers\n",
    "label_encoder = LabelEncoder()\n",
    "y_encoded = label_encoder.fit_transform(y)\n",
    "# Trova etichette sospette\n",
    "issues = find_label_issues(labels=y_encoded, pred_probs=cross_val_predict(clf, X, y_encoded, method='predict_proba'), return_indices_ranked_by='self_confidence')\n",
    "\n",
    "# Mostra problemi trovati\n",
    "df_issues = df.iloc[issues][[\"Disease\"] + symptom_cols]\n",
    "df_issues.head()\n",
    "print(f\"Trovati {len(df_issues)} potenziali errori di etichettatura.\")"
   ]
  }
 ],
 "metadata": {
  "language_info": {
   "name": "python"
  }
 },
 "nbformat": 4,
 "nbformat_minor": 5
}
